{
 "cells": [
  {
   "cell_type": "markdown",
   "id": "eb4eddf5-eb31-449f-91c5-78c5c682c127",
   "metadata": {},
   "source": [
    "# My title\n",
    "Some description of the program"
   ]
  },
  {
   "cell_type": "code",
   "execution_count": 12,
   "id": "8a6e2806-5b05-4235-82e7-8e21ee6691b8",
   "metadata": {},
   "outputs": [
    {
     "name": "stdout",
     "output_type": "stream",
     "text": [
      "Hello World!\n"
     ]
    }
   ],
   "source": [
    "print(\"Hello World!\")"
   ]
  },
  {
   "cell_type": "code",
   "execution_count": 14,
   "id": "e519bb19-66e3-4045-8120-2f1bd388edf2",
   "metadata": {},
   "outputs": [],
   "source": [
    "from ipywidgets import interact, interactive, fixed, interact_manual\n",
    "import ipywidgets as widgets"
   ]
  },
  {
   "cell_type": "code",
   "execution_count": 15,
   "id": "a9b725ed-3270-4f73-85f1-b26470797a23",
   "metadata": {},
   "outputs": [
    {
     "data": {
      "application/vnd.jupyter.widget-view+json": {
       "model_id": "b901b3f4caa14ba082ce2ed8bb8d2beb",
       "version_major": 2,
       "version_minor": 0
      },
      "text/plain": [
       "interactive(children=(IntSlider(value=1, description='n', max=10, min=1), Output()), _dom_classes=('widget-int…"
      ]
     },
     "metadata": {},
     "output_type": "display_data"
    }
   ],
   "source": [
    "@interact(n=widgets.IntSlider(min=1, max=10, step=1))\n",
    "def f(n):\n",
    "    print(\"This is the output:\", n)"
   ]
  },
  {
   "cell_type": "code",
   "execution_count": 16,
   "id": "779ae828-7573-4fed-a147-1e5400c5a52a",
   "metadata": {},
   "outputs": [],
   "source": [
    "import matplotlib.pyplot as plt\n",
    "import numpy as np"
   ]
  },
  {
   "cell_type": "code",
   "execution_count": 17,
   "id": "dd677f08-8f09-403b-b67c-738b01eb7dcc",
   "metadata": {},
   "outputs": [
    {
     "data": {
      "application/vnd.jupyter.widget-view+json": {
       "model_id": "03aebd3473a7455280442921040b6805",
       "version_major": 2,
       "version_minor": 0
      },
      "text/plain": [
       "interactive(children=(IntSlider(value=1, description='npi', max=10, min=1), Output()), _dom_classes=('widget-i…"
      ]
     },
     "metadata": {},
     "output_type": "display_data"
    }
   ],
   "source": [
    "@interact(npi=widgets.IntSlider(min=1, max=10, step=1))\n",
    "def mys(npi):\n",
    "    x = np.linspace(0, np.pi*npi,100)\n",
    "    fig, axs = plt.subplots(1,1)\n",
    "    axs.plot(x, np.sin(x))\n",
    "    plt.show()"
   ]
  },
  {
   "cell_type": "code",
   "execution_count": null,
   "id": "151375ba-8b1f-4743-b5a7-702f74dbd40a",
   "metadata": {},
   "outputs": [],
   "source": []
  }
 ],
 "metadata": {
  "kernelspec": {
   "display_name": "eoas",
   "language": "python",
   "name": "eoas"
  },
  "language_info": {
   "codemirror_mode": {
    "name": "ipython",
    "version": 3
   },
   "file_extension": ".py",
   "mimetype": "text/x-python",
   "name": "python",
   "nbconvert_exporter": "python",
   "pygments_lexer": "ipython3",
   "version": "3.10.5"
  }
 },
 "nbformat": 4,
 "nbformat_minor": 5
}
